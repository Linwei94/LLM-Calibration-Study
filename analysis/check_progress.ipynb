{
 "cells": [
  {
   "cell_type": "code",
   "execution_count": 45,
   "id": "3c186668",
   "metadata": {},
   "outputs": [],
   "source": [
    "import pickle\n",
    "import os"
   ]
  },
  {
   "cell_type": "code",
   "execution_count": 46,
   "id": "a198ea7c",
   "metadata": {},
   "outputs": [
    {
     "name": "stdout",
     "output_type": "stream",
     "text": [
      "['tmp_mmlu_pro_shared_sampling_Qwen3-0.6B-FP8_full_0', 'tmp_mmlu_pro_shared_sampling_gemini-1.5-flash-8b_full_0', 'tmp_mmlu_pro_shared_sampling_Qwen3-235B-A22B-fp8_full_0', 'tmp_mmlu_pro_shared_sampling_gemini-2.0-flash-lite_full_0', 'tmp_mmlu_pro_shared_sampling_gemini-2.0-flash_full_0', 'tmp_mmlu_pro_shared_sampling_gemini-2.5-pro-exp-03-25_full_0', 'tmp_mmlu_pro_shared_sampling_gemini-1.5-pro_full_0', 'tmp_mmlu_pro_shared_sampling_gemini-2.5-flash-preview-04-17_full_0', 'tmp_mmlu_pro_shared_sampling_gemini-1.5-flash_full_0']\n"
     ]
    }
   ],
   "source": [
    "files = os.listdir('.')\n",
    "files = [f for f in files if \"tmp\" in f and not f.endswith(\".lock\")]\n",
    "print(files)"
   ]
  },
  {
   "cell_type": "code",
   "execution_count": 47,
   "id": "30ca97f4",
   "metadata": {},
   "outputs": [
    {
     "name": "stdout",
     "output_type": "stream",
     "text": [
      "tmp_mmlu_pro_shared_sampling_Qwen3-0.6B-FP8_full_0 31\n",
      "tmp_mmlu_pro_shared_sampling_gemini-1.5-flash-8b_full_0 2255\n",
      "tmp_mmlu_pro_shared_sampling_Qwen3-235B-A22B-fp8_full_0 12032\n",
      "tmp_mmlu_pro_shared_sampling_gemini-2.0-flash-lite_full_0 1793\n",
      "tmp_mmlu_pro_shared_sampling_gemini-2.0-flash_full_0 1401\n",
      "tmp_mmlu_pro_shared_sampling_gemini-2.5-pro-exp-03-25_full_0 73\n",
      "tmp_mmlu_pro_shared_sampling_gemini-1.5-pro_full_0 97\n",
      "tmp_mmlu_pro_shared_sampling_gemini-2.5-flash-preview-04-17_full_0 840\n",
      "tmp_mmlu_pro_shared_sampling_gemini-1.5-flash_full_0 2546\n"
     ]
    }
   ],
   "source": [
    "for path in files:\n",
    "    try:\n",
    "        with open(path, 'rb') as f:\n",
    "            examples = pickle.load(f)\n",
    "            print(path, len(examples))\n",
    "    except:\n",
    "        print(path, \"not available\")\n",
    "    "
   ]
  },
  {
   "cell_type": "code",
   "execution_count": null,
   "id": "9362a24c",
   "metadata": {},
   "outputs": [],
   "source": []
  }
 ],
 "metadata": {
  "kernelspec": {
   "display_name": "llm-uncertainty",
   "language": "python",
   "name": "python3"
  },
  "language_info": {
   "codemirror_mode": {
    "name": "ipython",
    "version": 3
   },
   "file_extension": ".py",
   "mimetype": "text/x-python",
   "name": "python",
   "nbconvert_exporter": "python",
   "pygments_lexer": "ipython3",
   "version": "3.13.2"
  }
 },
 "nbformat": 4,
 "nbformat_minor": 5
}
