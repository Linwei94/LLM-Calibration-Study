{
 "cells": [
  {
   "cell_type": "code",
   "execution_count": 17,
   "id": "55fc51ac",
   "metadata": {},
   "outputs": [],
   "source": [
    "from query_templates import *\n",
    "import pandas as pd\n",
    "from datasets import load_dataset"
   ]
  },
  {
   "cell_type": "code",
   "execution_count": 18,
   "id": "80b291b4",
   "metadata": {},
   "outputs": [],
   "source": [
    "def preprocess(test_df):\n",
    "    res_df = []\n",
    "    for each in test_df:\n",
    "        options = []\n",
    "        for opt in each[\"options\"]:\n",
    "            if opt == \"N/A\":\n",
    "                continue\n",
    "            options.append(opt)\n",
    "        each[\"options\"] = options\n",
    "        res_df.append(each)\n",
    "    res = {}\n",
    "    for each in res_df:\n",
    "        if each[\"category\"] not in res:\n",
    "            res[each[\"category\"]] = []\n",
    "        res[each[\"category\"]].append(each)\n",
    "    examples = []\n",
    "    [examples.extend(lst) for lst in res.values()]\n",
    "    return examples"
   ]
  },
  {
   "cell_type": "code",
   "execution_count": 19,
   "id": "57d428bc",
   "metadata": {},
   "outputs": [],
   "source": [
    "examples = preprocess(load_dataset(\"TIGER-Lab/MMLU-Pro\")[\"test\"])"
   ]
  },
  {
   "cell_type": "code",
   "execution_count": 20,
   "id": "db3d97b8",
   "metadata": {},
   "outputs": [
    {
     "data": {
      "text/plain": [
       "{'question_id': 75,\n",
       " 'question': ' Which of the following are the three broad groups of organizational characteristics segmentation criteria?',\n",
       " 'options': ['Organizational size, industry type, and geographical location.',\n",
       "  'Organizational size, industry type, and age of company.',\n",
       "  'Organizational size, industry type, and customer base.',\n",
       "  'Organizational size, industry type, and annual revenue.',\n",
       "  'Organizational size, industry type, and business strategy.',\n",
       "  'None of the above.',\n",
       "  'Organizational size, industry type, and gender.',\n",
       "  'Organizational size, industry type, and number of branches.',\n",
       "  'Psychographics, purchaser, and behavioural criteria.',\n",
       "  'Organizational size, industry type, and number of employees.'],\n",
       " 'answer': 'A',\n",
       " 'answer_index': 0,\n",
       " 'cot_content': '',\n",
       " 'category': 'business',\n",
       " 'src': 'ori_mmlu-marketing'}"
      ]
     },
     "execution_count": 20,
     "metadata": {},
     "output_type": "execute_result"
    }
   ],
   "source": [
    "row = examples[5]\n",
    "row"
   ]
  },
  {
   "cell_type": "code",
   "execution_count": 21,
   "id": "a403b2eb",
   "metadata": {},
   "outputs": [
    {
     "data": {
      "text/plain": [
       "{'A': 'Organizational size, industry type, and geographical location.',\n",
       " 'B': 'Organizational size, industry type, and age of company.',\n",
       " 'C': 'Organizational size, industry type, and customer base.',\n",
       " 'D': 'Organizational size, industry type, and annual revenue.',\n",
       " 'E': 'Organizational size, industry type, and business strategy.',\n",
       " 'F': 'None of the above.',\n",
       " 'G': 'Organizational size, industry type, and gender.',\n",
       " 'H': 'Organizational size, industry type, and number of branches.',\n",
       " 'I': 'Psychographics, purchaser, and behavioural criteria.',\n",
       " 'J': 'Organizational size, industry type, and number of employees.'}"
      ]
     },
     "execution_count": 21,
     "metadata": {},
     "output_type": "execute_result"
    }
   ],
   "source": [
    "options = dict(zip([chr(ord('A') + i) for i in range(len(row[\"options\"]))], row[\"options\"]))\n",
    "options"
   ]
  },
  {
   "cell_type": "code",
   "execution_count": 22,
   "id": "b86f0455",
   "metadata": {},
   "outputs": [
    {
     "name": "stdout",
     "output_type": "stream",
     "text": [
      "\n",
      "\n",
      "A) Organizational size, industry type, and geographical location.\n",
      "B) Organizational size, industry type, and age of company.\n",
      "C) Organizational size, industry type, and customer base.\n",
      "D) Organizational size, industry type, and annual revenue.\n",
      "E) Organizational size, industry type, and business strategy.\n",
      "F) None of the above.\n",
      "G) Organizational size, industry type, and gender.\n",
      "H) Organizational size, industry type, and number of branches.\n",
      "I) Psychographics, purchaser, and behavioural criteria.\n",
      "J) Organizational size, industry type, and number of employees.\n",
      "\n"
     ]
    }
   ],
   "source": [
    "options_str = \"\\n\\n\"\n",
    "for k, v in options.items():\n",
    "    options_str += \"{}) {}\\n\".format(k, v)\n",
    "print(options_str)"
   ]
  },
  {
   "cell_type": "code",
   "execution_count": 24,
   "id": "377e59ba",
   "metadata": {},
   "outputs": [
    {
     "name": "stdout",
     "output_type": "stream",
     "text": [
      "Read the question, analyze step by step, provide your answer.\n",
      "\n",
      "If you are uncertain about your answer to the question, convey this uncertainty linguistically by precisely hedging this answer.\n",
      "\n",
      "Use the following format to answer:\n",
      "\n",
      "```Explanation: [insert short step-by-step analysis here]\n",
      "\n",
      "Answer: [ONLY the option LETTER, where the LETTER is one of A,B,C,D]```\n",
      "\n",
      "The answer should be in the last line alone. Only give me the reply according to this format, don't give me any other words.\n",
      "\n",
      " Which of the following are the three broad groups of organizational characteristics segmentation criteria?\n",
      "\n",
      "A) Organizational size, industry type, and geographical location.\n",
      "B) Organizational size, industry type, and age of company.\n",
      "C) Organizational size, industry type, and customer base.\n",
      "D) Organizational size, industry type, and annual revenue.\n",
      "E) Organizational size, industry type, and business strategy.\n",
      "F) None of the above.\n",
      "G) Organizational size, industry type, and gender.\n",
      "H) Organizational size, industry type, and number of branches.\n",
      "I) Psychographics, purchaser, and behavioural criteria.\n",
      "J) Organizational size, industry type, and number of employees.\n",
      "\n"
     ]
    }
   ],
   "source": [
    "print(MULTI_CHOICE_NO_OPTIONS_COT_HEDGING_TEMPLATE.format(Question = row[\"question\"]) + options_str)"
   ]
  },
  {
   "cell_type": "code",
   "execution_count": null,
   "id": "69b6f7d9",
   "metadata": {},
   "outputs": [],
   "source": []
  }
 ],
 "metadata": {
  "kernelspec": {
   "display_name": ".venv",
   "language": "python",
   "name": "python3"
  },
  "language_info": {
   "codemirror_mode": {
    "name": "ipython",
    "version": 3
   },
   "file_extension": ".py",
   "mimetype": "text/x-python",
   "name": "python",
   "nbconvert_exporter": "python",
   "pygments_lexer": "ipython3",
   "version": "3.13.2"
  }
 },
 "nbformat": 4,
 "nbformat_minor": 5
}
