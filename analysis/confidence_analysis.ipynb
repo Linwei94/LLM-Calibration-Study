{
 "cells": [
  {
   "cell_type": "markdown",
   "id": "9d47ad53",
   "metadata": {},
   "source": [
    "# Confidence and Accuracy Analysis"
   ]
  },
  {
   "cell_type": "code",
   "execution_count": 1,
   "id": "14c64f7a",
   "metadata": {},
   "outputs": [],
   "source": [
    "from bs4 import BeautifulSoup\n",
    "import re\n",
    "import numpy as np"
   ]
  },
  {
   "cell_type": "code",
   "execution_count": 3,
   "id": "5495ce08",
   "metadata": {},
   "outputs": [],
   "source": [
    "def get_confidence(file_path):\n",
    "    with open(file_path, \"r\", encoding=\"utf-8\") as file:\n",
    "        html_content = file.read()\n",
    "\n",
    "    # Parse the HTML\n",
    "    soup = BeautifulSoup(html_content, \"html.parser\")\n",
    "\n",
    "    # Define a regex pattern for \"Extracted Answer Confidence\"\n",
    "    pattern = re.compile(r\"Extracted Answer Confidence:\\s([0-1\\]*\\.?[0-9]+)\")\n",
    "\n",
    "    # Search through the text in the HTML\n",
    "    matches = pattern.findall(soup.get_text())\n",
    "\n",
    "    # Print the extracted confidence values\n",
    "    return np.array(matches, dtype=float)\n",
    "\n",
    "def get_accuracy(file_path):\n",
    "    with open(file_path, \"r\", encoding=\"utf-8\") as file:\n",
    "        html_content = file.read()\n",
    "\n",
    "    # Parse the HTML\n",
    "    soup = BeautifulSoup(html_content, \"html.parser\")\n",
    "\n",
    "    # Define a regex pattern for \"Extracted Answer Confidence\"\n",
    "    pattern = re.compile(r\"Score:\\s([0-1]*\\.?[0-9]+)\")\n",
    "\n",
    "    # Search through the text in the HTML\n",
    "    matches = pattern.findall(soup.get_text())\n",
    "\n",
    "    # Print the extracted confidence values\n",
    "    return np.array(matches, dtype=float)\n",
    "\n",
    "def get_subject(file_path):\n",
    "    with open(file_path, \"r\", encoding=\"utf-8\") as file:\n",
    "        html_content = file.read()\n",
    "\n",
    "    # Parse the HTML\n",
    "    soup = BeautifulSoup(html_content, \"html.parser\")\n",
    "\n",
    "    # Define a regex pattern for \"Extracted Answer Confidence\"\n",
    "    pattern = re.compile(r'\\nSubject:\\s(.+)\\n')\n",
    "\n",
    "    # Search through the text in the HTML\n",
    "    matches = pattern.findall(soup.get_text())\n",
    "\n",
    "    # Print the extracted confidence values\n",
    "    return (matches)"
   ]
  },
  {
   "cell_type": "markdown",
   "id": "fe82a2f3",
   "metadata": {},
   "source": [
    "## Confidence Distributions"
   ]
  },
  {
   "cell_type": "markdown",
   "id": "61c52556",
   "metadata": {},
   "source": [
    "- GPT-4.1-mini\n",
    "- GPT-4.1-nano\n",
    "- meta-llama/Llama-2-70b-hf\n",
    "- meta-llama/Llama-3.2-3B-Instruct-Turbo\n",
    "- meta-llama/Meta-Llama-3.1-8B-Instruct-Turbo\n",
    "- meta-llama/Meta-Llama-3.1-70B-Instruct-Turbo\n",
    "- meta-llama/Meta-Llama-3.1-405B-Instruct-Turbo"
   ]
  },
  {
   "cell_type": "code",
   "execution_count": 4,
   "id": "25470a95",
   "metadata": {},
   "outputs": [
    {
     "ename": "KeyError",
     "evalue": "'cnofidence'",
     "output_type": "error",
     "traceback": [
      "\u001b[31m---------------------------------------------------------------------------\u001b[39m",
      "\u001b[31mKeyError\u001b[39m                                  Traceback (most recent call last)",
      "\u001b[36mCell\u001b[39m\u001b[36m \u001b[39m\u001b[32mIn[4]\u001b[39m\u001b[32m, line 3\u001b[39m\n\u001b[32m      1\u001b[39m filename = \u001b[33m\"\"\"\u001b[39m\u001b[33m../results/mmlu_pro_\u001b[39m\u001b[38;5;132;01m{model}\u001b[39;00m\u001b[33m_\u001b[39m\u001b[38;5;132;01m{cnofidence}\u001b[39;00m\u001b[33m_sahred_sampling_None.html\u001b[39m\u001b[33m\"\"\"\u001b[39m\n\u001b[32m----> \u001b[39m\u001b[32m3\u001b[39m verbal_num = get_confidence(\u001b[43mfilename\u001b[49m\u001b[43m.\u001b[49m\u001b[43mformat\u001b[49m\u001b[43m(\u001b[49m\u001b[43mmodel\u001b[49m\u001b[43m=\u001b[49m\u001b[33;43m\"\u001b[39;49m\u001b[33;43mgpt-4.1-mini\u001b[39;49m\u001b[33;43m\"\u001b[39;49m\u001b[43m,\u001b[49m\u001b[43m \u001b[49m\u001b[43mconfidence\u001b[49m\u001b[43m=\u001b[49m\u001b[33;43m\"\u001b[39;49m\u001b[33;43mverbal_numerical\u001b[39;49m\u001b[33;43m\"\u001b[39;49m\u001b[43m)\u001b[49m)\n\u001b[32m      4\u001b[39m verbal_nu\n",
      "\u001b[31mKeyError\u001b[39m: 'cnofidence'"
     ]
    }
   ],
   "source": [
    "filename = \"\"\"../results/mmlu_pro_{model}_{cnofidence}_sahred_sampling_None.html\"\"\"\n",
    "\n",
    "verbal_num = get_confidence(filename.format(model=\"gpt-4.1-mini\", confidence=\"verbal_numerical\"))\n",
    "verbal_nu"
   ]
  },
  {
   "cell_type": "markdown",
   "id": "266f5ed3",
   "metadata": {},
   "source": [
    "## Confidence vs. Accuracy Scatter Plots"
   ]
  },
  {
   "cell_type": "markdown",
   "id": "dc9788db",
   "metadata": {},
   "source": []
  }
 ],
 "metadata": {
  "kernelspec": {
   "display_name": "llm-uncertainty",
   "language": "python",
   "name": "python3"
  },
  "language_info": {
   "codemirror_mode": {
    "name": "ipython",
    "version": 3
   },
   "file_extension": ".py",
   "mimetype": "text/x-python",
   "name": "python",
   "nbconvert_exporter": "python",
   "pygments_lexer": "ipython3",
   "version": "3.13.2"
  }
 },
 "nbformat": 4,
 "nbformat_minor": 5
}
