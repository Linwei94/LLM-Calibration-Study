{
 "cells": [
  {
   "cell_type": "markdown",
   "id": "9d47ad53",
   "metadata": {},
   "source": [
    "# Confidence and Accuracy Analysis"
   ]
  },
  {
   "cell_type": "code",
   "execution_count": 1,
   "id": "14c64f7a",
   "metadata": {},
   "outputs": [],
   "source": [
    "from bs4 import BeautifulSoup\n",
    "import re\n",
    "import numpy as np\n",
    "import matplotlib.pyplot as plt\n"
   ]
  },
  {
   "cell_type": "code",
   "execution_count": 2,
   "id": "5495ce08",
   "metadata": {},
   "outputs": [],
   "source": [
    "def get_confidence(file_path):\n",
    "    with open(file_path, \"r\", encoding=\"utf-8\") as file:\n",
    "        html_content = file.read()\n",
    "\n",
    "    # Parse the HTML\n",
    "    soup = BeautifulSoup(html_content, \"html.parser\")\n",
    "\n",
    "    # Define a regex pattern for \"Extracted Answer Confidence\"\n",
    "    pattern = re.compile(r\"Extracted Answer Confidence:\\s([0-1\\]*\\.?[0-9]+)\")\n",
    "\n",
    "    # Search through the text in the HTML\n",
    "    matches = pattern.findall(soup.get_text())\n",
    "\n",
    "    # Print the extracted confidence values\n",
    "    return np.array(matches, dtype=float)\n",
    "\n",
    "def get_accuracy(file_path):\n",
    "    with open(file_path, \"r\", encoding=\"utf-8\") as file:\n",
    "        html_content = file.read()\n",
    "\n",
    "    # Parse the HTML\n",
    "    soup = BeautifulSoup(html_content, \"html.parser\")\n",
    "\n",
    "    # Define a regex pattern for \"Extracted Answer Confidence\"\n",
    "    pattern = re.compile(r\"Score:\\s([0-1]*\\.?[0-9]+)\")\n",
    "\n",
    "    # Search through the text in the HTML\n",
    "    matches = pattern.findall(soup.get_text())\n",
    "\n",
    "    # Print the extracted confidence values\n",
    "    return np.array(matches, dtype=float)\n",
    "\n",
    "def get_subject(file_path):\n",
    "    with open(file_path, \"r\", encoding=\"utf-8\") as file:\n",
    "        html_content = file.read()\n",
    "\n",
    "    # Parse the HTML\n",
    "    soup = BeautifulSoup(html_content, \"html.parser\")\n",
    "\n",
    "    # Define a regex pattern for \"Extracted Answer Confidence\"\n",
    "    pattern = re.compile(r'\\nSubject:\\s(.+)\\n')\n",
    "\n",
    "    # Search through the text in the HTML\n",
    "    matches = pattern.findall(soup.get_text())\n",
    "\n",
    "    # Print the extracted confidence values\n",
    "    return (matches)"
   ]
  },
  {
   "cell_type": "markdown",
   "id": "fe82a2f3",
   "metadata": {},
   "source": [
    "## Confidence Distributions"
   ]
  },
  {
   "cell_type": "markdown",
   "id": "61c52556",
   "metadata": {},
   "source": [
    "- GPT-4.1-mini\n",
    "- GPT-4.1-nano\n",
    "- meta-llama/Llama-2-70b-hf\n",
    "- meta-llama/Llama-3.2-3B-Instruct-Turbo\n",
    "- meta-llama/Meta-Llama-3.1-8B-Instruct-Turbo\n",
    "- meta-llama/Meta-Llama-3.1-70B-Instruct-Turbo\n",
    "- meta-llama/Meta-Llama-3.1-405B-Instruct-Turbo"
   ]
  },
  {
   "cell_type": "code",
   "execution_count": null,
   "id": "25470a95",
   "metadata": {},
   "outputs": [],
   "source": [
    "html_filename = \"\"\"../results/mmlu_pro_{model}_{confidence}_shared_sampling_None.html\"\"\"\n",
    "all_models = [\"gpt-4.1-mini\", \n",
    "              \"gpt-4.1-nano\", \n",
    "            #   \"meta-llama/Llama-2-70b-hf\",\n",
    "              \"meta-llama/Llama-3.2-3B-Instruct-Turbo\",\n",
    "              \"meta-llama/Meta-Llama-3.1-8B-Instruct-Turbo\",\n",
    "              \"meta-llama/Meta-Llama-3.1-70B-Instruct-Turbo\",\n",
    "              \"meta-llama/Meta-Llama-3.1-405B-Instruct-Turbo\"\n",
    "              ]"
   ]
  },
  {
   "cell_type": "code",
   "execution_count": null,
   "id": "9fe1b69a",
   "metadata": {},
   "outputs": [
    {
     "ename": "KeyboardInterrupt",
     "evalue": "",
     "output_type": "error",
     "traceback": [
      "\u001b[31m---------------------------------------------------------------------------\u001b[39m",
      "\u001b[31mKeyboardInterrupt\u001b[39m                         Traceback (most recent call last)",
      "\u001b[36mCell\u001b[39m\u001b[36m \u001b[39m\u001b[32mIn[6]\u001b[39m\u001b[32m, line 3\u001b[39m\n\u001b[32m      1\u001b[39m \u001b[38;5;28;01mfor\u001b[39;00m model \u001b[38;5;129;01min\u001b[39;00m all_models:\n\u001b[32m      2\u001b[39m     verbal_num = get_confidence(filename.format(model=model, confidence=\u001b[33m\"\u001b[39m\u001b[33mverbal_numerical\u001b[39m\u001b[33m\"\u001b[39m))\n\u001b[32m----> \u001b[39m\u001b[32m3\u001b[39m     logits_perp = \u001b[43mget_confidence\u001b[49m\u001b[43m(\u001b[49m\u001b[43mfilename\u001b[49m\u001b[43m.\u001b[49m\u001b[43mformat\u001b[49m\u001b[43m(\u001b[49m\u001b[43mmodel\u001b[49m\u001b[43m=\u001b[49m\u001b[43mmodel\u001b[49m\u001b[43m,\u001b[49m\u001b[43m \u001b[49m\u001b[43mconfidence\u001b[49m\u001b[43m=\u001b[49m\u001b[33;43m\"\u001b[39;49m\u001b[33;43mlogit_perplexity\u001b[39;49m\u001b[33;43m\"\u001b[39;49m\u001b[43m)\u001b[49m\u001b[43m)\u001b[49m\n\u001b[32m      5\u001b[39m     fig, axes = plt.subplots(\u001b[32m1\u001b[39m, \u001b[32m2\u001b[39m, figsize=(\u001b[32m12\u001b[39m, \u001b[32m5\u001b[39m))\n\u001b[32m      7\u001b[39m     \u001b[38;5;66;03m# First histogram\u001b[39;00m\n",
      "\u001b[36mCell\u001b[39m\u001b[36m \u001b[39m\u001b[32mIn[2]\u001b[39m\u001b[32m, line 6\u001b[39m, in \u001b[36mget_confidence\u001b[39m\u001b[34m(file_path)\u001b[39m\n\u001b[32m      3\u001b[39m     html_content = file.read()\n\u001b[32m      5\u001b[39m \u001b[38;5;66;03m# Parse the HTML\u001b[39;00m\n\u001b[32m----> \u001b[39m\u001b[32m6\u001b[39m soup = \u001b[43mBeautifulSoup\u001b[49m\u001b[43m(\u001b[49m\u001b[43mhtml_content\u001b[49m\u001b[43m,\u001b[49m\u001b[43m \u001b[49m\u001b[33;43m\"\u001b[39;49m\u001b[33;43mhtml.parser\u001b[39;49m\u001b[33;43m\"\u001b[39;49m\u001b[43m)\u001b[49m\n\u001b[32m      8\u001b[39m \u001b[38;5;66;03m# Define a regex pattern for \"Extracted Answer Confidence\"\u001b[39;00m\n\u001b[32m      9\u001b[39m pattern = re.compile(\u001b[33mr\u001b[39m\u001b[33m\"\u001b[39m\u001b[33mExtracted Answer Confidence:\u001b[39m\u001b[33m\\\u001b[39m\u001b[33ms([0-1\u001b[39m\u001b[33m\\\u001b[39m\u001b[33m]*\u001b[39m\u001b[33m\\\u001b[39m\u001b[33m.?[0-9]+)\u001b[39m\u001b[33m\"\u001b[39m)\n",
      "\u001b[36mFile \u001b[39m\u001b[32m~/Documents/uni-projects/LLM-Calibration-Study/.venv/lib/python3.13/site-packages/bs4/__init__.py:473\u001b[39m, in \u001b[36mBeautifulSoup.__init__\u001b[39m\u001b[34m(self, markup, features, builder, parse_only, from_encoding, exclude_encodings, element_classes, **kwargs)\u001b[39m\n\u001b[32m    471\u001b[39m \u001b[38;5;28mself\u001b[39m.builder.initialize_soup(\u001b[38;5;28mself\u001b[39m)\n\u001b[32m    472\u001b[39m \u001b[38;5;28;01mtry\u001b[39;00m:\n\u001b[32m--> \u001b[39m\u001b[32m473\u001b[39m     \u001b[38;5;28;43mself\u001b[39;49m\u001b[43m.\u001b[49m\u001b[43m_feed\u001b[49m\u001b[43m(\u001b[49m\u001b[43m)\u001b[49m\n\u001b[32m    474\u001b[39m     success = \u001b[38;5;28;01mTrue\u001b[39;00m\n\u001b[32m    475\u001b[39m     \u001b[38;5;28;01mbreak\u001b[39;00m\n",
      "\u001b[36mFile \u001b[39m\u001b[32m~/Documents/uni-projects/LLM-Calibration-Study/.venv/lib/python3.13/site-packages/bs4/__init__.py:658\u001b[39m, in \u001b[36mBeautifulSoup._feed\u001b[39m\u001b[34m(self)\u001b[39m\n\u001b[32m    655\u001b[39m \u001b[38;5;28mself\u001b[39m.builder.reset()\n\u001b[32m    657\u001b[39m \u001b[38;5;28;01mif\u001b[39;00m \u001b[38;5;28mself\u001b[39m.markup \u001b[38;5;129;01mis\u001b[39;00m \u001b[38;5;129;01mnot\u001b[39;00m \u001b[38;5;28;01mNone\u001b[39;00m:\n\u001b[32m--> \u001b[39m\u001b[32m658\u001b[39m     \u001b[38;5;28;43mself\u001b[39;49m\u001b[43m.\u001b[49m\u001b[43mbuilder\u001b[49m\u001b[43m.\u001b[49m\u001b[43mfeed\u001b[49m\u001b[43m(\u001b[49m\u001b[38;5;28;43mself\u001b[39;49m\u001b[43m.\u001b[49m\u001b[43mmarkup\u001b[49m\u001b[43m)\u001b[49m\n\u001b[32m    659\u001b[39m \u001b[38;5;66;03m# Close out any unfinished strings and close all the open tags.\u001b[39;00m\n\u001b[32m    660\u001b[39m \u001b[38;5;28mself\u001b[39m.endData()\n",
      "\u001b[36mFile \u001b[39m\u001b[32m~/Documents/uni-projects/LLM-Calibration-Study/.venv/lib/python3.13/site-packages/bs4/builder/_htmlparser.py:467\u001b[39m, in \u001b[36mHTMLParserTreeBuilder.feed\u001b[39m\u001b[34m(self, markup)\u001b[39m\n\u001b[32m    464\u001b[39m parser = BeautifulSoupHTMLParser(\u001b[38;5;28mself\u001b[39m.soup, *args, **kwargs)\n\u001b[32m    466\u001b[39m \u001b[38;5;28;01mtry\u001b[39;00m:\n\u001b[32m--> \u001b[39m\u001b[32m467\u001b[39m     \u001b[43mparser\u001b[49m\u001b[43m.\u001b[49m\u001b[43mfeed\u001b[49m\u001b[43m(\u001b[49m\u001b[43mmarkup\u001b[49m\u001b[43m)\u001b[49m\n\u001b[32m    468\u001b[39m     parser.close()\n\u001b[32m    469\u001b[39m \u001b[38;5;28;01mexcept\u001b[39;00m \u001b[38;5;167;01mAssertionError\u001b[39;00m \u001b[38;5;28;01mas\u001b[39;00m e:\n\u001b[32m    470\u001b[39m     \u001b[38;5;66;03m# html.parser raises AssertionError in rare cases to\u001b[39;00m\n\u001b[32m    471\u001b[39m     \u001b[38;5;66;03m# indicate a fatal problem with the markup, especially\u001b[39;00m\n\u001b[32m    472\u001b[39m     \u001b[38;5;66;03m# when there's an error in the doctype declaration.\u001b[39;00m\n",
      "\u001b[36mFile \u001b[39m\u001b[32m/opt/homebrew/Cellar/python@3.13/3.13.2/Frameworks/Python.framework/Versions/3.13/lib/python3.13/html/parser.py:111\u001b[39m, in \u001b[36mHTMLParser.feed\u001b[39m\u001b[34m(self, data)\u001b[39m\n\u001b[32m    105\u001b[39m \u001b[38;5;250m\u001b[39m\u001b[33mr\u001b[39m\u001b[33;03m\"\"\"Feed data to the parser.\u001b[39;00m\n\u001b[32m    106\u001b[39m \n\u001b[32m    107\u001b[39m \u001b[33;03mCall this as often as you want, with as little or as much text\u001b[39;00m\n\u001b[32m    108\u001b[39m \u001b[33;03mas you want (may include '\\n').\u001b[39;00m\n\u001b[32m    109\u001b[39m \u001b[33;03m\"\"\"\u001b[39;00m\n\u001b[32m    110\u001b[39m \u001b[38;5;28mself\u001b[39m.rawdata = \u001b[38;5;28mself\u001b[39m.rawdata + data\n\u001b[32m--> \u001b[39m\u001b[32m111\u001b[39m \u001b[38;5;28;43mself\u001b[39;49m\u001b[43m.\u001b[49m\u001b[43mgoahead\u001b[49m\u001b[43m(\u001b[49m\u001b[32;43m0\u001b[39;49m\u001b[43m)\u001b[49m\n",
      "\u001b[36mFile \u001b[39m\u001b[32m/opt/homebrew/Cellar/python@3.13/3.13.2/Frameworks/Python.framework/Versions/3.13/lib/python3.13/html/parser.py:173\u001b[39m, in \u001b[36mHTMLParser.goahead\u001b[39m\u001b[34m(self, end)\u001b[39m\n\u001b[32m    171\u001b[39m     k = \u001b[38;5;28mself\u001b[39m.parse_starttag(i)\n\u001b[32m    172\u001b[39m \u001b[38;5;28;01melif\u001b[39;00m startswith(\u001b[33m\"\u001b[39m\u001b[33m</\u001b[39m\u001b[33m\"\u001b[39m, i):\n\u001b[32m--> \u001b[39m\u001b[32m173\u001b[39m     k = \u001b[38;5;28;43mself\u001b[39;49m\u001b[43m.\u001b[49m\u001b[43mparse_endtag\u001b[49m\u001b[43m(\u001b[49m\u001b[43mi\u001b[49m\u001b[43m)\u001b[49m\n\u001b[32m    174\u001b[39m \u001b[38;5;28;01melif\u001b[39;00m startswith(\u001b[33m\"\u001b[39m\u001b[33m<!--\u001b[39m\u001b[33m\"\u001b[39m, i):\n\u001b[32m    175\u001b[39m     k = \u001b[38;5;28mself\u001b[39m.parse_comment(i)\n",
      "\u001b[36mFile \u001b[39m\u001b[32m/opt/homebrew/Cellar/python@3.13/3.13.2/Frameworks/Python.framework/Versions/3.13/lib/python3.13/html/parser.py:414\u001b[39m, in \u001b[36mHTMLParser.parse_endtag\u001b[39m\u001b[34m(self, i)\u001b[39m\n\u001b[32m    411\u001b[39m         \u001b[38;5;28mself\u001b[39m.handle_data(rawdata[i:gtpos])\n\u001b[32m    412\u001b[39m         \u001b[38;5;28;01mreturn\u001b[39;00m gtpos\n\u001b[32m--> \u001b[39m\u001b[32m414\u001b[39m \u001b[38;5;28;43mself\u001b[39;49m\u001b[43m.\u001b[49m\u001b[43mhandle_endtag\u001b[49m\u001b[43m(\u001b[49m\u001b[43melem\u001b[49m\u001b[43m)\u001b[49m\n\u001b[32m    415\u001b[39m \u001b[38;5;28mself\u001b[39m.clear_cdata_mode()\n\u001b[32m    416\u001b[39m \u001b[38;5;28;01mreturn\u001b[39;00m gtpos\n",
      "\u001b[36mFile \u001b[39m\u001b[32m~/Documents/uni-projects/LLM-Calibration-Study/.venv/lib/python3.13/site-packages/bs4/builder/_htmlparser.py:220\u001b[39m, in \u001b[36mBeautifulSoupHTMLParser.handle_endtag\u001b[39m\u001b[34m(self, name, check_already_closed)\u001b[39m\n\u001b[32m    218\u001b[39m     \u001b[38;5;28mself\u001b[39m.already_closed_empty_element.remove(name)\n\u001b[32m    219\u001b[39m \u001b[38;5;28;01melse\u001b[39;00m:\n\u001b[32m--> \u001b[39m\u001b[32m220\u001b[39m     \u001b[38;5;28;43mself\u001b[39;49m\u001b[43m.\u001b[49m\u001b[43msoup\u001b[49m\u001b[43m.\u001b[49m\u001b[43mhandle_endtag\u001b[49m\u001b[43m(\u001b[49m\u001b[43mname\u001b[49m\u001b[43m)\u001b[49m\n",
      "\u001b[36mFile \u001b[39m\u001b[32m~/Documents/uni-projects/LLM-Calibration-Study/.venv/lib/python3.13/site-packages/bs4/__init__.py:1053\u001b[39m, in \u001b[36mBeautifulSoup.handle_endtag\u001b[39m\u001b[34m(self, name, nsprefix)\u001b[39m\n\u001b[32m   1050\u001b[39m     \u001b[38;5;28mself\u001b[39m.pushTag(tag)\n\u001b[32m   1051\u001b[39m     \u001b[38;5;28;01mreturn\u001b[39;00m tag\n\u001b[32m-> \u001b[39m\u001b[32m1053\u001b[39m \u001b[38;5;28;01mdef\u001b[39;00m\u001b[38;5;250m \u001b[39m\u001b[34mhandle_endtag\u001b[39m(\u001b[38;5;28mself\u001b[39m, name: \u001b[38;5;28mstr\u001b[39m, nsprefix: Optional[\u001b[38;5;28mstr\u001b[39m] = \u001b[38;5;28;01mNone\u001b[39;00m) -> \u001b[38;5;28;01mNone\u001b[39;00m:\n\u001b[32m   1054\u001b[39m \u001b[38;5;250m    \u001b[39m\u001b[33;03m\"\"\"Called by the tree builder when an ending tag is encountered.\u001b[39;00m\n\u001b[32m   1055\u001b[39m \n\u001b[32m   1056\u001b[39m \u001b[33;03m    :param name: Name of the tag.\u001b[39;00m\n\u001b[32m   (...)\u001b[39m\u001b[32m   1059\u001b[39m \u001b[33;03m    :meta private:\u001b[39;00m\n\u001b[32m   1060\u001b[39m \u001b[33;03m    \"\"\"\u001b[39;00m\n\u001b[32m   1061\u001b[39m     \u001b[38;5;66;03m# print(\"End tag: \" + name)\u001b[39;00m\n",
      "\u001b[31mKeyboardInterrupt\u001b[39m: "
     ]
    }
   ],
   "source": [
    "\n",
    "for model in all_models:\n",
    "    verbal_num = get_confidence(html_filename.format(model=model, confidence=\"verbal_numerical\"))\n",
    "    logits_perp = get_confidence(html_filename.format(model=model, confidence=\"logit_perplexity\"))\n",
    "\n",
    "    fig, axes = plt.subplots(1, 2, figsize=(12, 5))\n",
    "\n",
    "    # First histogram\n",
    "    axes[0].hist(verbal_num, density=True, bins=30)\n",
    "    axes[0].set_title(f'{model} Verbal Numerical Confidence Distribution')\n",
    "    axes[0].set_xlabel('Confidence')\n",
    "    axes[0].set_ylabel('Density')\n",
    "\n",
    "    # Second histogram\n",
    "    axes[1].hist(logits_perp, density=True, bins=30)\n",
    "    axes[1].set_title(f'{model} Verbal Logit Perplexity Confidence Distribution')\n",
    "    axes[1].set_xlabel('Confidence')\n",
    "    axes[1].set_ylabel('Density')\n",
    "\n",
    "    plt.tight_layout()\n",
    "    plt.show()"
   ]
  },
  {
   "cell_type": "markdown",
   "id": "266f5ed3",
   "metadata": {},
   "source": [
    "## Confidence vs. Accuracy Scatter Plots"
   ]
  },
  {
   "cell_type": "code",
   "execution_count": null,
   "id": "dc9788db",
   "metadata": {},
   "outputs": [],
   "source": [
    "json_filesname = \"\"\"../results/mmlu_pro_{model}_{confidence}_shared_sampling_None.json\"\"\""
   ]
  }
 ],
 "metadata": {
  "kernelspec": {
   "display_name": ".venv",
   "language": "python",
   "name": "python3"
  },
  "language_info": {
   "codemirror_mode": {
    "name": "ipython",
    "version": 3
   },
   "file_extension": ".py",
   "mimetype": "text/x-python",
   "name": "python",
   "nbconvert_exporter": "python",
   "pygments_lexer": "ipython3",
   "version": "3.13.2"
  }
 },
 "nbformat": 4,
 "nbformat_minor": 5
}
