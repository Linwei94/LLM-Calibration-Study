{
 "cells": [
  {
   "cell_type": "code",
   "execution_count": 14,
   "id": "6101d5ec",
   "metadata": {},
   "outputs": [],
   "source": [
    "import pandas as pd\n",
    "import os"
   ]
  },
  {
   "cell_type": "code",
   "execution_count": 15,
   "id": "248404fa",
   "metadata": {},
   "outputs": [
    {
     "name": "stdout",
     "output_type": "stream",
     "text": [
      "Meta-Llama-3.1-70B-Instruct-Turb\n",
      "Missing Answer: 139\n",
      "Missing verbal_numerical_confidence: 147\n",
      "Missing logit_perplexity_confidence: 0\n",
      "Missing verbal_linguistic_confidence: 0\n",
      "\n",
      "Meta-Llama-3.1-8B-Instruct-Turb\n",
      "Missing Answer: 605\n",
      "Missing verbal_numerical_confidence: 614\n",
      "Missing logit_perplexity_confidence: 0\n",
      "Missing verbal_linguistic_confidence: 0\n",
      "\n",
      "Llama-4-Scout-17B-16E-Instruct\n",
      "Missing Answer: 24\n",
      "Missing verbal_numerical_confidence: 29\n",
      "Missing logit_perplexity_confidence: 0\n",
      "Missing verbal_linguistic_confidence: 0\n",
      "\n",
      "gpt-4.1-mini\n",
      "Missing Answer: 183\n",
      "Missing verbal_numerical_confidence: 174\n",
      "Missing logit_perplexity_confidence: 0\n",
      "Missing verbal_linguistic_confidence: 0\n",
      "\n",
      "Meta-Llama-3.1-405B-Instruct-Turb\n",
      "Missing Answer: 114\n",
      "Missing verbal_numerical_confidence: 111\n",
      "Missing logit_perplexity_confidence: 0\n",
      "Missing verbal_linguistic_confidence: 0\n",
      "\n",
      "Llama-3.2-3B-Instruct-Turb\n",
      "Missing Answer: 102\n",
      "Missing verbal_numerical_confidence: 104\n",
      "Missing logit_perplexity_confidence: 0\n",
      "Missing verbal_linguistic_confidence: 0\n",
      "\n",
      "Qwen3-235B-A22B-fp8\n",
      "Missing Answer: 2824\n",
      "Missing verbal_numerical_confidence: 4217\n",
      "Missing logit_perplexity_confidence: 0\n",
      "Missing verbal_linguistic_confidence: 0\n",
      "\n",
      "Llama-4-Maverick-17B-128E-Instruct-FP8\n",
      "Missing Answer: 4\n",
      "Missing verbal_numerical_confidence: 3\n",
      "Missing logit_perplexity_confidence: 0\n",
      "Missing verbal_linguistic_confidence: 0\n",
      "\n",
      "deepseek-chat\n",
      "Missing Answer: 9\n",
      "Missing verbal_numerical_confidence: 1\n",
      "Missing logit_perplexity_confidence: 0\n",
      "Missing verbal_linguistic_confidence: 0\n",
      "\n",
      "deepseek-reasoner\n",
      "Missing Answer: 0\n",
      "Missing verbal_numerical_confidence: 4\n",
      "Missing logit_perplexity_confidence: 12032\n",
      "Missing verbal_linguistic_confidence: 0\n",
      "\n",
      "gpt-4.1-\n",
      "Missing Answer: 425\n",
      "Missing verbal_numerical_confidence: 135\n",
      "Missing logit_perplexity_confidence: 0\n",
      "Missing verbal_linguistic_confidence: 0\n",
      "\n"
     ]
    }
   ],
   "source": [
    "for file in os.listdir(\".\"):\n",
    "    if file.endswith(\"csv\"):\n",
    "        df = pd.read_csv(file)\n",
    "        print(file.strip(\"mmlu_pro_\").strip(\"_eval_all_None.csv\").strip())\n",
    "        print(\"Missing Answer:\", df[\"extracted_answer\"].isna().sum())\n",
    "        print(\"Missing verbal_numerical_confidence:\", df[\"verbal_numerical_confidence\"].isna().sum())\n",
    "        print(\"Missing logit_perplexity_confidence:\", df[\"logit_perplexity_confidence\"].isna().sum())\n",
    "        print(\"Missing verbal_linguistic_confidence:\", df[\"verbal_linguistic_confidence\"].isna().sum())\n",
    "        print()\n"
   ]
  },
  {
   "cell_type": "code",
   "execution_count": null,
   "id": "fd36ffb4",
   "metadata": {},
   "outputs": [],
   "source": []
  }
 ],
 "metadata": {
  "kernelspec": {
   "display_name": "llm-uncertainty",
   "language": "python",
   "name": "python3"
  },
  "language_info": {
   "codemirror_mode": {
    "name": "ipython",
    "version": 3
   },
   "file_extension": ".py",
   "mimetype": "text/x-python",
   "name": "python",
   "nbconvert_exporter": "python",
   "pygments_lexer": "ipython3",
   "version": "3.10.16"
  }
 },
 "nbformat": 4,
 "nbformat_minor": 5
}
