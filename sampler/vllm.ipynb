{
 "cells": [
  {
   "cell_type": "code",
   "execution_count": null,
   "id": "20991bc4",
   "metadata": {},
   "outputs": [],
   "source": [
    "import openai\n",
    "messages = [\n",
    "    {\"role\": \"system\", \"content\": \"You are a helpful assistant.\"},\n",
    "    {\"role\": \"user\", \"content\": \"Hello, how are you?\"},\n",
    "    {\"role\": \"assistant\", \"content\": \"I'm doing great, thank you! How can I assist you today?\"},\n",
    "    {\"role\": \"user\", \"content\": \"Can you tell me a joke?\"}\n",
    "]\n",
    "\n",
    "client = openai.OpenAI(base_url=\"http://localhost:8000/v1\", api_key=\"Empty\")\n",
    "response = client.chat.completions.create(\n",
    "    model=\"Qwen/Qwen2.5-32B-Instruct-AWQ\",\n",
    "    messages=messages,\n",
    "    temperature=0,\n",
    "    max_tokens=150,\n",
    "    logprobs=True\n",
    ")\n",
    "\n",
    "print(response)"
   ]
  },
  {
   "cell_type": "code",
   "execution_count": null,
   "id": "4d8a0130",
   "metadata": {},
   "outputs": [],
   "source": []
  }
 ],
 "metadata": {
  "kernelspec": {
   "display_name": "llm-uncertainty",
   "language": "python",
   "name": "python3"
  },
  "language_info": {
   "codemirror_mode": {
    "name": "ipython",
    "version": 3
   },
   "file_extension": ".py",
   "mimetype": "text/x-python",
   "name": "python",
   "nbconvert_exporter": "python",
   "pygments_lexer": "ipython3",
   "version": "3.13.2"
  }
 },
 "nbformat": 4,
 "nbformat_minor": 5
}
