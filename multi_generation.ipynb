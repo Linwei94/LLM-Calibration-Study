{
 "cells": [
  {
   "cell_type": "code",
   "execution_count": 1,
   "id": "dd725025",
   "metadata": {},
   "outputs": [],
   "source": [
    "import pickle\n",
    "import pandas as pd\n",
    "import os"
   ]
  },
  {
   "cell_type": "code",
   "execution_count": 2,
   "id": "34e3828e",
   "metadata": {},
   "outputs": [],
   "source": [
    "dir = \"cache\"\n",
    "files = os.listdir(dir)"
   ]
  },
  {
   "cell_type": "code",
   "execution_count": 4,
   "id": "8f3fd280",
   "metadata": {},
   "outputs": [
    {
     "name": "stdout",
     "output_type": "stream",
     "text": [
      "cache/mmlu_pro_shared_sampling_Qwen3-4B-FP8_full_0\n"
     ]
    }
   ],
   "source": [
    "for file in files:\n",
    "    print(dir + \"/\" + file)\n",
    "    with open(dir + \"/\" + file, 'rb') as f:\n",
    "        p = pickle.load(f)\n",
    "        break"
   ]
  },
  {
   "cell_type": "code",
   "execution_count": 22,
   "id": "1c9b6a70",
   "metadata": {},
   "outputs": [
    {
     "data": {
      "text/plain": [
       "[{'role': 'user',\n",
       "  'content': \"Read the question, analyze step by step, provide your answer and your confidence in this answer. Note: The confidence indicates how likely you think your answer is true.\\n\\nIf you are uncertain about your answer to the question, convey this uncertainty linguistically by precisely hedging this answer.\\n\\nUse the following format to answer:\\n\\n```\\nExplanation: [insert short step-by-step analysis here]\\n\\nAnswer: [ONLY the option LETTER, where the LETTER is one of A,B,C,D,E,F,G,H,I]\\n\\nConfidence (0-100): [Your confidence level, please only include the numerical number in the range of 0-100]%\\n```\\n\\nOnly give me the reply according to this format, don't give me any other words.\\n\\nTypical advertising regulatory bodies suggest, for example that adverts must not: encourage _________, cause unnecessary ________ or _____, and must not cause _______ offence.\\nA) Safe practices, Fear, Jealousy, Trivial\\nB) Unsafe practices, Distress, Joy, Trivial\\nC) Safe practices, Wants, Jealousy, Trivial\\nD) Safe practices, Distress, Fear, Trivial\\nE) Unsafe practices, Wants, Jealousy, Serious\\nF) Safe practices, Distress, Jealousy, Serious\\nG) Safe practices, Wants, Fear, Serious\\nH) Unsafe practices, Wants, Fear, Trivial\\nI) Unsafe practices, Distress, Fear, Serious\\n\"}]"
      ]
     },
     "execution_count": 22,
     "metadata": {},
     "output_type": "execute_result"
    }
   ],
   "source": [
    "p[0][\"rep_responses\"]\n",
    "p[0][\"rep_logprobs\"]\n",
    "p[0][\"answer\"]\n",
    "p[0][\"prompt_messages\"]"
   ]
  },
  {
   "cell_type": "code",
   "execution_count": null,
   "id": "5afde19b",
   "metadata": {},
   "outputs": [],
   "source": []
  }
 ],
 "metadata": {
  "kernelspec": {
   "display_name": "llm-uncertainty",
   "language": "python",
   "name": "python3"
  },
  "language_info": {
   "codemirror_mode": {
    "name": "ipython",
    "version": 3
   },
   "file_extension": ".py",
   "mimetype": "text/x-python",
   "name": "python",
   "nbconvert_exporter": "python",
   "pygments_lexer": "ipython3",
   "version": "3.12.10"
  }
 },
 "nbformat": 4,
 "nbformat_minor": 5
}
