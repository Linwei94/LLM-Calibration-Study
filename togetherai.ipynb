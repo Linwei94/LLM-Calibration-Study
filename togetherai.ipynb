{
 "cells": [
  {
   "cell_type": "code",
   "execution_count": 7,
   "id": "e922c6eb",
   "metadata": {},
   "outputs": [
    {
     "name": "stdout",
     "output_type": "stream",
     "text": [
      "```Explanation: To clearly distinguish two energy levels, the energy difference between them should be greater than the uncertainty in their energies. The uncertainty principle relates the lifetime of a state to the uncertainty in its energy by ΔΕ * Δt >= ħ/2, where ħ is the reduced Planck constant (approximately 6.58 * 10^-16 eV*s).\n",
      "\n",
      "For the first state with a lifetime (Δt1) of 10^-9 sec, the uncertainty in energy (ΔΕ1) is given by ΔΕ1 >= ħ/(2*Δt1) = (6.58 * 10^-16 eV*s) / (2 * 10^-9 s) = 3.29 * 10^-7 eV.\n",
      "\n",
      "For the second state with a lifetime (Δt2) of 10^-8 sec, the uncertainty in energy (ΔΕ2) is given by ΔΕ2 >= ħ/(2*Δt2) = (6.58 * 10^-16 eV*s) / (2 * 10^-8 s) = 3.29 * 10^-8 eV.\n",
      "\n",
      "To clearly resolve these two states, their energy difference (ΔE = |E1 - E2|) must be greater than the larger of ΔΕ1 and ΔΕ2. Since ΔΕ1 > ΔΕ2, ΔE > ΔΕ1 = 3.29 * 10^-7 eV.\n",
      "\n",
      "Let's examine the given options:\n",
      "A: 10^-9 eV is less than 3.29 * 10^-7 eV.\n",
      "B: 10^-11 eV is less than 3.29 * 10^-7 eV.\n",
      "C: 10^-4 eV is greater than 3.29 * 10^-7 eV.\n",
      "D: 10^-8 eV is less than 3.29 * 10^-7 eV.\n",
      "\n",
      "Thus, the energy difference that could allow the two states to be clearly resolved must be greater than 3.29 * 10^-7 eV.\n",
      "\n",
      "Answer: C```\n"
     ]
    }
   ],
   "source": [
    "from together import Together\n",
    "\n",
    "client = Together()\n",
    "\n",
    "query = \"\"\"\n",
    "Read the question, analyze step by step, provide your answer.\n",
    "\n",
    "Use the following format to answer:\n",
    "\n",
    "```Explanation: [insert step-by-step analysis here]\n",
    "\n",
    "Answer: [ONLY the option LETTER, where the LETTER is one of A,B,C,D]```\n",
    "\n",
    "The answer should be in the last line alone. Only give me the reply according to this format, don't give me any other words.\n",
    "\n",
    "Two quantum states with energies E1 and E2 have a lifetime of 10^-9 sec and 10^-8 sec, respectively. We want to clearly distinguish these two energy levels. Which one of the following options could be their energy difference so that they can be clearly resolved?\n",
    "\n",
    "\n",
    "A) 10^-9 eV\n",
    "B) 10^-11 eV\n",
    "C) 10^-4 eV\n",
    "D) 10^-8 eV\n",
    "\n",
    "\"\"\"\n",
    "\n",
    "response = client.chat.completions.create(\n",
    "    model=\"meta-llama/Llama-4-Maverick-17B-128E-Instruct-FP8\",\n",
    "    messages=[{\"role\": \"user\", \"content\": query}],\n",
    "    max_tokens=5000,\n",
    "    temperature=0,\n",
    "    seed=42\n",
    ")\n",
    "print(r1 := response.choices[0].message.content)"
   ]
  },
  {
   "cell_type": "code",
   "execution_count": 14,
   "id": "ecdc4cb5",
   "metadata": {},
   "outputs": [
    {
     "name": "stdout",
     "output_type": "stream",
     "text": [
      "## Step 1: Understand the problem and the concept of resolving energy levels\n",
      "The problem is about distinguishing between two quantum states with different energies (E1 and E2) and lifetimes (10^-9 sec and 10^-8 sec). To clearly resolve these energy levels, their energy difference should be such that it satisfies the condition derived from the Heisenberg Uncertainty Principle, specifically the energy-time uncertainty principle, ΔΕ * Δt >= h/4π, where ΔΕ is the energy uncertainty and Δt is the lifetime of the state.\n",
      "\n",
      "## Step 2: Apply the energy-time uncertainty principle to both states\n",
      "For the state with a lifetime of 10^-9 sec, the energy uncertainty ΔΕ1 is given by ΔΕ1 >= h/(4π*10^-9). For the state with a lifetime of 10^-8 sec, ΔΕ2 >= h/(4π*10^-8).\n",
      "\n",
      "## Step 3: Calculate the minimum energy uncertainty for each state\n",
      "First, calculate ΔΕ1 and ΔΕ2. The Planck constant h = 6.626 * 10^-34 J*s. So, ΔΕ1 >= (6.626 * 10^-34)/(4*3.14159*10^-9) and ΔΕ2 >= (6.626 * 10^-34)/(4*3.14159*10^-8).\n",
      "\n",
      "## Step 4: Perform the actual calculation for ΔΕ1 and ΔΕ2\n",
      "ΔΕ1 >= (6.626 * 10^-34)/(4*3.14159*10^-9) = 5.27 * 10^-26 J. To convert Joules to eV, divide by 1.602 * 10^-19, so ΔΕ1 >= (5.27 * 10^-26)/(1.602 * 10^-19) = 3.29 * 10^-7 eV.\n",
      "ΔΕ2 >= (6.626 * 10^-34)/(4*3.14159*10^-8) = 5.27 * 10^-27 J. Converting to eV, ΔΕ2 >= (5.27 * 10^-27)/(1.602 * 10^-19) = 3.29 * 10^-8 eV.\n",
      "\n",
      "## Step 5: Determine the condition for the energy difference to be resolvable\n",
      "For the two energy levels to be clearly resolved, their energy difference |E1 - E2| should be greater than the sum of their uncertainties, i.e., |E1 - E2| > ΔΕ1 + ΔΕ2.\n",
      "\n",
      "## Step 6: Calculate the sum of the energy uncertainties\n",
      "ΔΕ1 + ΔΕ2 = 3.29 * 10^-7 eV + 3.29 * 10^-8 eV = 3.29 * 10^-7 + 0.329 * 10^-7 = 3.619 * 10^-7 eV.\n",
      "\n",
      "## Step 7: Compare the given options with the calculated minimum resolvable energy difference\n",
      "The minimum energy difference required is approximately 3.62 * 10^-7 eV. Now, compare this with the given options: A (10^-9 eV), B (10^-11 eV), C (10^-4 eV), D (10^-8 eV).\n",
      "\n",
      "## Step 8: Check if any of the given options satisfy the condition for being greater than the minimum resolvable energy difference\n",
      "10^-9 eV and 10^-11 eV are less than 3.62 * 10^-7 eV. 10^-8 eV is also less than 3.62 * 10^-7 eV. 10^-4 eV is greater than 3.62 * 10^-7 eV.\n",
      "\n",
      "## Step 9: Select the appropriate answer based on the comparison\n",
      "Since 10^-4 eV is greater than 3.62 * 10^-7 eV, it satisfies the condition for the energy difference to be resolvable.\n",
      "\n",
      "The best answer is C.\n"
     ]
    }
   ],
   "source": [
    "from together import Together\n",
    "\n",
    "client = Together()\n",
    "\n",
    "\n",
    "response = client.chat.completions.create(\n",
    "    model=\"meta-llama/Llama-4-Maverick-17B-128E-Instruct-FP8\",\n",
    "    messages=[{\"role\":\"user\",\"content\":query}],\n",
    "    max_tokens=5000,\n",
    "    temperature=0,\n",
    "    seed=42\n",
    ")\n",
    "print(r2 := response.choices[0].message.content)"
   ]
  },
  {
   "cell_type": "code",
   "execution_count": 12,
   "id": "71fe62bb",
   "metadata": {},
   "outputs": [
    {
     "data": {
      "text/plain": [
       "1202"
      ]
     },
     "execution_count": 12,
     "metadata": {},
     "output_type": "execute_result"
    }
   ],
   "source": [
    "len(r1)"
   ]
  },
  {
   "cell_type": "code",
   "execution_count": 13,
   "id": "370af0bf",
   "metadata": {},
   "outputs": [
    {
     "data": {
      "text/plain": [
       "1325"
      ]
     },
     "execution_count": 13,
     "metadata": {},
     "output_type": "execute_result"
    }
   ],
   "source": [
    "len(r2)"
   ]
  },
  {
   "cell_type": "code",
   "execution_count": null,
   "id": "bbfa68e5",
   "metadata": {},
   "outputs": [],
   "source": []
  }
 ],
 "metadata": {
  "kernelspec": {
   "display_name": ".venv",
   "language": "python",
   "name": "python3"
  },
  "language_info": {
   "codemirror_mode": {
    "name": "ipython",
    "version": 3
   },
   "file_extension": ".py",
   "mimetype": "text/x-python",
   "name": "python",
   "nbconvert_exporter": "python",
   "pygments_lexer": "ipython3",
   "version": "3.13.2"
  }
 },
 "nbformat": 4,
 "nbformat_minor": 5
}
